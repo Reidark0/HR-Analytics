{
 "cells": [
  {
   "cell_type": "markdown",
   "metadata": {},
   "source": [
    "# Trabalho individual de Rafael César para a Resilia Educação no módulo 5"
   ]
  },
  {
   "cell_type": "markdown",
   "metadata": {},
   "source": [
    "![Windows](https://img.shields.io/badge/Windows11-Lenovo_Ideapad_3-0078D6?style=for-the-badge&logo=windows&logoColor=white)\n",
    "![Jupyter](https://img.shields.io/badge/Made%20with-Jupyter-orange?style=for-the-badge&logo=Jupyter)\n",
    "![Resilia](https://img.shields.io/badge/Resilia-F7DF1E?style=for-the-badge)"
   ]
  },
  {
   "cell_type": "markdown",
   "metadata": {},
   "source": [
    "Nesse projeto nós recebemos 2 gráficos de bolhas representando os resultados de duas pesquisas, uma do próprio RH da empresa e outro de uma pesquisa anônima feita com colaboradores que estão saindo da empresa. \n",
    "\n",
    "Nesse trabalho foi usado:\n",
    "* o Tableau e os dados foram tratados diretamente no arquivo CSV pois o seu tamanho era pequeno.\n",
    "* Também foi usado o Jupyter Notebook que tem a mesma função de divisão do colab.\n",
    "* Durante o desenvolvimento do trabalho usei conhecimentos que adquirir na leitura de livros anteriores e as aulas tech da resilia\n",
    "* Além de também experiencia de trabalhos anteriores e outras análises feitas para treino.\n",
    "\n",
    "![Markdown](https://img.shields.io/badge/Markdown-000000?style=for-the-badge&logo=markdown&logoColor=white)\n",
    "![Tableau](https://img.shields.io/badge/Tableau-E97627?style=for-the-badge&logo=Tableau&logoColor=white)\n",
    "![VSCODE](https://img.shields.io/badge/Visual_Studio_Code-0078D4?style=for-the-badge&logo=visual%20studio%20code&logoColor=white)\n",
    "![Git](https://img.shields.io/badge/GIT-E44C30?style=for-the-badge&logo=git&logoColor=white)\n"
   ]
  },
  {
   "cell_type": "markdown",
   "metadata": {},
   "source": [
    "![imagem](./images/grafico_bolha.png)\n",
    "\n",
    "_Gráfico entregue pela empresa parceira de RH_"
   ]
  },
  {
   "cell_type": "markdown",
   "metadata": {},
   "source": [
    "A imagem acima quer nos dizer o seguinte:\n",
    "O gráfico de cima é o que a empresa de RH parceira recebeu de feedback das saídas.\n",
    "O gráfico de baixo é o feedback que os funcionários deixaram na pesquisa anônima de saída.\n",
    "As bolinhas ao lado são os motivos organizados por facilidade de serem evitados no futuro, ou seja, quanto mais embaixo, mas inevitável é a saída do funcionário.\n",
    "\n",
    "Como podemos ver, há certas discrepâncias entre os dois gráficos, e podemos considerar a pesquisa anônima como a mais confiável.\n",
    "Em ambos o problema de \"Promoção\" é o que mais acontece, porem quando observamos as outras causas dos gráficos apresentam uma grande discrepância:\n",
    "\n",
    "No primeiro há 3 grandes causas para a saída de funcionários (Promoção, Tipo de carreira e Realocação) e no terceiro há apenas uma grande causa (Promoção).\n",
    "\n",
    "Com isso podemos ver que o maior problema é a falta de promoções dentro da empresa. E que alguns funcionários não se sentem confortáveis de dizer isso para a empresa.\n",
    "\n",
    "Olhando mais afundo vemos as seguintes diferenças:\n",
    "\n",
    "A pesquisa anônima de saída mostra valores maiores em:\n",
    "1. Conflito com outros\n",
    "2. Carga de trabalho\n",
    "3. Falta de promoção\n",
    "4. Pagamento\n",
    "5. Mudança de carreira\n",
    "6. Doença\n",
    "\n",
    "Sendo a Falta de promoções o maior problema, seguido de longe por tipo de trabalho.\n",
    "\n",
    "enquanto que a pesquisa do RH da destaque para:\n",
    "1. Treinamento\n",
    "2. Falta de reconhecimento\n",
    "3. Tipo de trabalho\n",
    "4. Trajeto para o trabalho\n",
    "\n",
    "Onde os há 3 maiores causas, sendo a Falta de promoção, tipo de trabalho e realocação com valores próximos entre si.\n",
    "\n",
    "Isso nos indica que:\n",
    "\n",
    "        1. A empresa tem um problema sério com o seu plano de carreira e que os colaboradores não enxergam uma oportunidade de seguir carreira na empresa.\n",
    "\n",
    "        2. A distribuição dos resultados do RH é bem mais homogênea e não há outliers, mas a distribuição da pesquisa anônima mostra 2 grandes outliers e o resto está bem concentrado. isso pode indicar que talvez os funcionários não estavam confortáveis de relatar ao RH o real motivo da saída e decidiram mascarar a sua saída com outros motivos variados, assim diluindo o valor aberrante.\n",
    "\n",
    "        3. As queixas mais fáceis de resolver (7 a 11) representam no RH 46% (258/565) e na Pesquisa anônima 58% (292/504) das reclamações totais, isso indica que a maioria das causas de saída dos funcionários são coisas relativamente fáceis de resolver.\n"
   ]
  },
  {
   "cell_type": "markdown",
   "metadata": {},
   "source": [
    "Os pontos de melhoria desse gráfico são:\n",
    "* Os dois gráficos não possuem a mesma proporção, \n",
    "* Os circulos pequenos são difíceis de enxergar,\n",
    "* A Legenda do lado direito faz os olhos ficarem indo e voltando para entendermos o gráfico. \n",
    "\n",
    "Os pontos que acertou em cheio são:\n",
    "* As cores são diferentes e não causam confusão,\n",
    "* O gráfico pode ser entendido mesmo por pessoas que são daltônicas por seguirem a mesma ordem da legenda,\n",
    "* A informação é passada para quem está lendo o gráfico."
   ]
  },
  {
   "cell_type": "markdown",
   "metadata": {},
   "source": [
    "Uma forma de melhorar a visualização seria usar um destes exemplos:\n"
   ]
  },
  {
   "cell_type": "markdown",
   "metadata": {},
   "source": [
    "1. Um gráfico de barras sempre é uma boa pedida e nesse caso principalmente o de barras horizontais seria bom, e se você puder incluir um sobre o outro com barras de diferentes grossuras você pode facilitar muito a comparação entre os gráficos, mas irá atrapalhar um pouco a analise individual dos dados.\n",
    "\n",
    "![grafico1](./images/grafico1.png)\n",
    "\n",
    " https://public.tableau.com/app/profile/rafael.c.sar.andrade/viz/ResiliaIndividual/Planilha1?publish=yes\n",
    "\n",
    "2. Um gráfico do tipo boxplot iria nos mostrar os resultados de forma a destacar os outliers e mostrar aonde está a concentração \"normal\" de saídas, mas ela não nos mostraria com facilidade a habilidade de impactar nas saídas.\n",
    "\n",
    "![boxplot](./images/Boxplot.png)\n",
    "\n",
    "https://public.tableau.com/app/profile/rafael.c.sar.andrade/viz/ResiliaIndividualBoxplot/Planilha2\n",
    "\n",
    "\n",
    "3. Um gráfico de pizza, onde poderíamos ver quais são a maiores causas e com base em um esquema de cores, poderíamos separar quais são as causas mais fáceis de serem resolvidas, ou ao menos refreadas. As desvantagens seria que a quantidade de fatias atrapalharia a leitura de fatias únicas.\n",
    "\n",
    "![PizzaRH](./images/pizzaRH.png) ![PizzaAnonimous](./images/pizzanonima.png)\n",
    "\n",
    "https://public.tableau.com/app/profile/rafael.c.sar.andrade/viz/ResiliaIndividualBoxplot/Planilha3?publish=yes\n",
    "https://public.tableau.com/app/profile/rafael.c.sar.andrade/viz/ResiliaIndividualBoxplot/Planilha32?publish=yes\n"
   ]
  },
  {
   "cell_type": "markdown",
   "metadata": {},
   "source": [
    "Mas acredito que o melhor seria o de barras sobrepostas coloridas por ordem de habilidade de afetar, onde poderíamos ver onde está a maioria dos casos e comparar como elas se comportaram em cada pesquisa ao mesmo tempo.\n",
    "\n",
    "![Final](./images/Final.png)\n",
    "\n",
    "https://public.tableau.com/app/profile/rafael.c.sar.andrade/viz/ResiliaIndividualBoxplot/Final?publish=yes"
   ]
  },
  {
   "cell_type": "markdown",
   "metadata": {},
   "source": [
    "## Final"
   ]
  },
  {
   "cell_type": "markdown",
   "metadata": {},
   "source": [
    "Pesquisas como essas podem ser bem intimidadoras, pois o colaborador fica com receios de dizer os reais motivos de sua saída, (principalmente se estão insatisfeitos com a empresa) e em uma pesquisa anônima os motivos para não dizer a verdade são mais escassos. Isso poderia ser uma das explicações da diferença entre os dados, sendo os dados da empresa de RH distribuídos seguindo uma curva normal.\n",
    "\n",
    "![normal](./images/Normal.png)\n",
    "\n",
    "Isso seria esperado se não houvesse um motivo em comum da \"debandada\", mas sendo uma reclamação observada que muitos funcionários estão saindo da empresa, podemos pensar que há um viés na amostra do RH, isso nos leva a examinar a pesquisa anônima.\n",
    "\n",
    "Nela fica claro que a principal insatisfação é a falta de promoções, que pode ser encarada como a falta de reconhecimento. Indica que os colaboradores até poderiam permanecer na empresa, mas se sentem estagnados e sem motivação para esperarem ser promovidos.\n",
    "\n",
    "Medidas devem ser tomadas para resolver essa insatisfação, como ter transparência na questão de candidatos a promoção e tornar regulares as promoções (o que além de ser uma recompensa para antigos colaboradores, também incentivaria o crescimento da empresa)."
   ]
  }
 ],
 "metadata": {
  "kernelspec": {
   "display_name": "Python 3",
   "language": "python",
   "name": "python3"
  },
  "language_info": {
   "codemirror_mode": {
    "name": "ipython",
    "version": 3
   },
   "file_extension": ".py",
   "mimetype": "text/x-python",
   "name": "python",
   "nbconvert_exporter": "python",
   "pygments_lexer": "ipython3",
   "version": "3.11.3"
  },
  "orig_nbformat": 4
 },
 "nbformat": 4,
 "nbformat_minor": 2
}
