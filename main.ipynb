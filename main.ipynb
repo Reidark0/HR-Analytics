{
 "cells": [
  {
   "cell_type": "markdown",
   "metadata": {},
   "source": [
    "# Trabalho individual de Rafael César para a Resilia Educação no módulo 5"
   ]
  },
  {
   "cell_type": "markdown",
   "metadata": {},
   "source": [
    "## Evidencia de entrega"
   ]
  },
  {
   "cell_type": "markdown",
   "metadata": {},
   "source": [
    "Nesse prohjeto nós recebemos 2 gráficos de bolhas representando os resultados de duas pesquisas, uma do próprio RH da empresa e outro de uma pesquisa anônima feita com colaboradores que estão saindo da empresa. \n",
    "\n",
    "Nesse trabalho foi usado o Tableau e os dados foram tratados diretamente no arquivo CSV pois o seu tamanho era pequeno.\n",
    "\n",
    "Também foi usado o Jupyter Notebook que tem a mesma função de divisão do colab.\n",
    "\n",
    "Durante o desenvolvimento do trabalho usei conhecimentos que adquirir na leitura de livros anteriores e as aulas tech da resilia, também experiencia de trabalhos anteriores e outras análises feitas para treino."
   ]
  },
  {
   "cell_type": "markdown",
   "metadata": {},
   "source": [
    "![imagem](./images/grafico_bolha.png)\n",
    "\n",
    "Gráfico entregue pela empresa parceira de RH"
   ]
  },
  {
   "cell_type": "markdown",
   "metadata": {},
   "source": [
    "## Partes 1 e 2"
   ]
  },
  {
   "cell_type": "markdown",
   "metadata": {},
   "source": [
    "A imagem quer nos dizer o seguinte:\n",
    "O gráfico de cima é oque a empresa de RH parceira recebeu de feedback das saídas.\n",
    "O gráfico de baixo é o feedback que os funcionários deixaram na pesquisa anônima de saída.\n",
    "As bolinhas ao lado são os motivos organizados por facilidade de serem evitados no futuro, ou seja, quanto mais embaixo, mas inevitável é a saída do funcionário.\n",
    "\n",
    "Como podemos ver, ha certas discrepancias entre os dois gráficos, e podemos considerar a pesquisa anônima como a mais confiável.\n",
    "Em ambos o problema de \"Promoção\" é o que mais acontece, porem quando obdervamos as outras causas oss gráficoss apresentam uma grande descrepancia:\n",
    "\n",
    "No primeiro há 3 grandes causas para a saída de funcionários(Promoção, Tipo de carreira e Realocação) e no terceiro há apenas uma grande causa (Promoção).\n",
    "\n",
    "Com isso podemos ver que o maior problema é a falta de promoções dentro da empresa. E que alguns fuincionários não se sentem confortaveis de dizer isso para a empresa.\n",
    "\n",
    "Olhando mais afundo Vemos as seguintes diferenças:\n",
    "\n",
    "A pesquisa anonima de saída mostra valores maiores em:\n",
    "1. Conflito com outros\n",
    "2. Carga de trabalho\n",
    "3. Falta de promoção\n",
    "4. Pagamento\n",
    "5. Mudança de carreira\n",
    "6. Doença\n",
    "\n",
    "Sendo a Falta de promoções o maior problema, seguido de longe por tipo de trabalho.\n",
    "\n",
    "enquanto que a pesquisa do RH da destaque para:\n",
    "1. Treinamento\n",
    "2. Falta de reconhecimento\n",
    "3. Tipo de trabalho\n",
    "4. Trajeto para o trabalho\n",
    "\n",
    "Onde os há 3 maiores causas, sendo a Falta de promoção, tipo de trabalho e realocação com valores próximos entre si.\n",
    "\n",
    "Isso nos indica que:\n",
    "\n",
    "        1. A empresa tem um problema sério com o seu plano de carreira e que os colaboradores não enxergam uma oportunidade de seguir carreira na empresa.\n",
    "\n",
    "        2. A distribuição dos resultados do RH são bem mais homogeneos e não há outliers, mas a distribuição da pesquisa anonima mostra 2 grandes outliers e o resto está bem concentrado. isso pode indicar que talvez os funcionários não estavam confortaveis de relatar ao RH o real motivo da saída e decidiram mascarar a sua saída com outros motivos variados, assim diluindo o valor aberrante.\n",
    "\n",
    "        3. As queixas mais faceis de resolver (7 a 11) representam no RH 46% (258/565) e na Pesquisa anonima 58% (292/504) das reclamações totais, isso indica que a maioria das causas de saída dos funcionários são coisas relativamente faceis de resolver.\n"
   ]
  },
  {
   "cell_type": "markdown",
   "metadata": {},
   "source": [
    "## Parte 3"
   ]
  },
  {
   "cell_type": "markdown",
   "metadata": {},
   "source": [
    "3. O que não é ideal ou poderia ser evitado na visualização em sua forma atual? Que\n",
    "perguntas você faria ou que feedback daria para quem fez o gráfico?\n",
    "Exemplo: suponha que seu HRBP gastou muito tempo criando esse gráfico; como você\n",
    "pode ajustar seu feedback para que ele não se ofenda?\n"
   ]
  },
  {
   "cell_type": "markdown",
   "metadata": {},
   "source": [
    "O gráfico tem uma boa intenção, mas alguns detalhes deviam ter sido levados em consideração como os dois gráficos terem a mesma proporção, Os circulos pequenos são difíceis de enxergar e a Legenda do lado direito faz os olhos ficarem indo e voltando para entendermos o gráfico. Mas apesar disso podemos entender oque o criador do gráfico quer mostrar.\n",
    "As cores são diferentes e não causam confusão e o gráfico pode ser entendido mesmo por pessoas que são daltônicas por seguirem a mesma ordem da legenda.\n",
    "Perguntária se houve alguns dados estranhos ou se ele saberia explicar a diferença tão chamativa entre as duas pesquisas."
   ]
  },
  {
   "cell_type": "markdown",
   "metadata": {},
   "source": [
    "## Parte 4 e 5\n"
   ]
  },
  {
   "cell_type": "markdown",
   "metadata": {},
   "source": [
    "Um gráfico de barras sempre é uma boa pedida e nesse caso principalmente o de barras horizontais seria bom, e se vc puder incluir um ssobre o outro com barras de diferentes grossuras você pode facilitar muito a comparação entre os gráficos, mas irá atrapalhar um pouco a analise individual dos dados.\n",
    "\n",
    "![grafico1](./images/grafico1.png)\n",
    "\n",
    " https://public.tableau.com/app/profile/rafael.c.sar.andrade/viz/ResiliaIndividual/Planilha1?publish=yes\n",
    "\n",
    "Um gráfico do tipo boxplot iria nos mostrar os resultados de forma a destacar os outliers e mostrar aonde está a concentração \"normal\" de saídas, mas ela não nos mostraria com facilidade a habilidade de impactar nas saídas.\n",
    "\n",
    "![boxplot](./images/Boxplot.png)\n",
    "\n",
    "https://public.tableau.com/app/profile/rafael.c.sar.andrade/viz/ResiliaIndividualBoxplot/Planilha2\n",
    "\n",
    "\n",
    "Um gráfico de pizza, onde poderiamos ver quais são a maiores causas e com base em um esquema de cores, poderiamos separar quais são as causas mais fáceis de serem resolvidas, ou ao menos refreadas. As desvantagens seria que a quantidade de fatias atrapalharia a leitura de fatias únicas.\n",
    "\n",
    "![PizzaRH](./images/pizzaRH.png)\n",
    "\n",
    "https://public.tableau.com/app/profile/rafael.c.sar.andrade/viz/ResiliaIndividualBoxplot/Planilha3?publish=yes\n",
    "\n",
    "![PizzaAnonimous](./images/pizzanonima.png)\n",
    "\n",
    "https://public.tableau.com/app/profile/rafael.c.sar.andrade/viz/ResiliaIndividualBoxplot/Planilha32?publish=yes"
   ]
  },
  {
   "cell_type": "markdown",
   "metadata": {},
   "source": [
    "5. Qual visualização representa melhor os dados e por quê?"
   ]
  },
  {
   "cell_type": "markdown",
   "metadata": {},
   "source": [
    "Eu acredito que o melhor seria o de barras sobrepostas coloridas por ordem de habilidade de afetar, onde poderiamos ver onde está a maioria do casos e comparar como elas se comportaram em cada pesquisa ao mesmo tempo."
   ]
  },
  {
   "cell_type": "markdown",
   "metadata": {},
   "source": [
    "## Final"
   ]
  },
  {
   "cell_type": "markdown",
   "metadata": {},
   "source": [
    "Pesquisas como essas podem ser bem intimidadoras, pois o colaborador fica com receios de dizer os reais motivos de sua saída, (principalmente se estão insastifeitos com a empresa) e em uma pesquisa anônima os motivoss spara não dizer a verdade são maisss escassos. Isso poderia ser uma das explicações da diferença entre os dados, sendo os dados da empresa de RH distibuidos seguindo uma curva normal.\n",
    "\n",
    "![normal](./images/Normal.png)\n",
    "\n",
    "Isso seria esperado se não houvesse um motivo em comum da \"debandada\", mas sendo uma reclamação observada que muitos funcionários estão saindo da empresa, podemos pensar que há um viés na amostra do RH, isso nos leva a examinar a pesquisa anônima.\n",
    "\n",
    "Nela fica claro que a principal insatinsfação é a falta de promoções, que pode ser encarada como a falta de reconhecimento. Indica que os colaboradores até poderiam permanecer na empresa, mas se sentem estagnados e sem motivação para esperarem ser promovidos.\n",
    "\n",
    "Medidas devem ser tomadas para resolver essa insatisfação, como ter transparência na quetão de candidatos a promoção e tornar regulares as promoções (oque além de ser uma recompensa para antigos colaboradores, também insentivaria o crescimento da empresa)\n",
    "\n",
    "\n",
    "\n",
    "![Final](./images/Final.png)\n",
    "\n",
    "https://public.tableau.com/app/profile/rafael.c.sar.andrade/viz/ResiliaIndividualBoxplot/Final?publish=yes\n"
   ]
  }
 ],
 "metadata": {
  "kernelspec": {
   "display_name": "Python 3",
   "language": "python",
   "name": "python3"
  },
  "language_info": {
   "codemirror_mode": {
    "name": "ipython",
    "version": 3
   },
   "file_extension": ".py",
   "mimetype": "text/x-python",
   "name": "python",
   "nbconvert_exporter": "python",
   "pygments_lexer": "ipython3",
   "version": "3.11.3"
  },
  "orig_nbformat": 4
 },
 "nbformat": 4,
 "nbformat_minor": 2
}
