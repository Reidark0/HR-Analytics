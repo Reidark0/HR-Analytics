{
 "cells": [
  {
   "cell_type": "markdown",
   "metadata": {},
   "source": [
    "Você deve criar um ou mais dashboards, com o Tableau, identificando as\n",
    "\n",
    "razões de saída dos funcionários da empresa e seus impactos, e indicando\n",
    "\n",
    "possíveis soluções para esses problemas."
   ]
  },
  {
   "cell_type": "markdown",
   "metadata": {},
   "source": [
    "Requisitos\n",
    "\n",
    "● Utilizar o Tableau.\n",
    "\n",
    "● Realizar a limpeza dos dados, se necessário;\n",
    "\n",
    "● Realizar análise exploratória;\n",
    "\n",
    "● Gerar, no mínimo, três (3) gráficos para a apresentação dos resultados;\n",
    "\n",
    "● Apresentar, no mínimo, dois (2) insights relevantes e conclusões fundamentadas com base\n",
    "nas análises realizadas.\n",
    "\n",
    "● O projeto precisa possuir uma evidência de entrega, ou seja, um pequeno parágrafo com\n",
    "uma explicação do que foi feito no projeto e a defesa das escolhas tomadas."
   ]
  },
  {
   "cell_type": "markdown",
   "metadata": {},
   "source": [
    "Se familiarize com a ferramenta Tableau e seus recursos-chave, para então realizar a\n",
    "importação e preparação de dados para análise. Siga os passos:\n",
    "\n",
    "■ Os dados para o desenvolvimento do projeto está nesse link;\n",
    "\n",
    "■ Importe o conjunto de dados para o Tableau;\n",
    "\n",
    "■ Realize, se necessário, as etapas necessárias de limpeza, transformação e\n",
    "modelagem dos dados para prepará-los para análise;\n",
    "\n",
    "■ Utilize recursos gráficos e de visualização do Tableau para criar visualizações\n",
    "interativas que representam os dados de forma clara e informativa;\n",
    "\n",
    "■ Crie painéis de controle (dashboards) para acompanhar métricas-chave e\n",
    "identificar insights relevantes;\n",
    "\n",
    "■ Crie relatórios interativos e atraentes, incorporando as visualizações e insights\n",
    "obtidos;\n",
    "\n",
    "■ Prepare uma narrativa clara e concisa que conte a história dos dados e forneça\n",
    "recomendações e conclusões baseadas nas análises realizadas;\n",
    "\n",
    "■ Documente todo o processo de análise e as etapas realizadas.\n"
   ]
  },
  {
   "cell_type": "markdown",
   "metadata": {},
   "source": [
    "![imagem](./images/grafico_bolha.png)"
   ]
  },
  {
   "cell_type": "markdown",
   "metadata": {},
   "source": [
    "1. O que está sendo mostrado aqui? Escreva um texto explicando os dados.\n",
    "Dica: imagine que você precisa explicar esse gráfico para o seu chefe. Escreva sobre como\n",
    "você faria isso em voz alta (fazendo suposições conforme necessário).\n",
    "\n",
    "2. Que observações você pode fazer a partir desses dados? Coloque duas\n",
    "conclusões específicas em palavras. Escreva sentenças completas.\n"
   ]
  },
  {
   "cell_type": "markdown",
   "metadata": {},
   "source": [
    "A imagem quer nos dizer o seguinte:\n",
    "O gráfico de cima é oque a empresa de RH parceira recebeu de feedback das saídas.\n",
    "O gráfico de baixo é o feedback que os funcionários deixaram na pesquisa anônima de saída.\n",
    "As bolinhas ao lado são os motivos organizados por facilidade de serem evitados no futuro, ou seja, quanto mais embaixo, mas inevitável é a saída do funcionário.\n",
    "\n",
    "Como podemos ver, ha certas discrepancias entre os dois gráficos, e podemos considerar a pesquisa anônima como a mais confiável.\n",
    "Em ambos o problema de \"Promoção\" é o que mais acontece, porem quando obdervamos as outras causas oss gráficoss apresentam uma grande descrepancia:\n",
    "\n",
    "No primeiro há 3 grandes causas para a saída de funcionários(Promoção, Tipo de carreira e Realocação) e no terceiro há apenas uma grande causa (Promoção).\n",
    "\n",
    "Com isso podemos ver que o maior problema é a falta de promoções dentro da empresa. E que alguns fuincionários não se sentem confortaveis de dizer isso para a empresa.\n",
    "\n",
    "Olhando mais afundo Vemos as seguintes diferenças:\n",
    "\n",
    "A pesquisa anonima de saída mostra valores maiores em:\n",
    "1. Conflito com outros\n",
    "2. Carga de trabalho\n",
    "3. Falta de promoção\n",
    "4. Pagamento\n",
    "5. Mudança de carreira\n",
    "6. Doença\n",
    "\n",
    "Sendo a Falta de promoções o maior problema, seguido de longe por tipo de trabalho.\n",
    "\n",
    "enquanto que a pesquisa do RH da destaque para:\n",
    "1. Treinamento\n",
    "2. Falta de reconhecimento\n",
    "3. Tipo de trabalho\n",
    "4. Trajeto para o trabalho\n",
    "\n",
    "Onde os há 3 maiores causas, sendo a Falta de promoção, tipo de trabalho e realocação com valores próximos entre si.\n",
    "\n",
    "Isso nos indica que:\n",
    "\n",
    "        1. A empresa tem um problema sério com o seu plano de carreira e que os colaboradores não enxergam uma oportunidade de seguir carreira na empresa.\n",
    "\n",
    "        2. A distribuição dos resultados do RH são bem mais homogeneos e não há outliers, mas a distribuição da pesquisa anonima mostra 2 grandes outliers e o resto está bem concentrado. isso pode indicar que talvez os funcionários não estavam confortaveis de relatar ao RH o real motivo da saída e decidiram mascarar a sua saída com outros motivos variados, assim diluindo o valor aberrante.\n",
    "\n",
    "        3. As queixas mais faceis de resolver (7 a 11) representam no RH 46% (258/565) e na Pesquisa anonima 58% (292/504) das reclamações totais, isso indica que a maioria das causas de saída dos funcionários são coisas relativamente faceis de resolver.\n"
   ]
  },
  {
   "cell_type": "markdown",
   "metadata": {},
   "source": [
    "3. O que não é ideal ou poderia ser evitado na visualização em sua forma atual? Que\n",
    "perguntas você faria ou que feedback daria para quem fez o gráfico?\n",
    "Exemplo: suponha que seu HRBP gastou muito tempo criando esse gráfico; como você\n",
    "pode ajustar seu feedback para que ele não se ofenda?\n"
   ]
  },
  {
   "cell_type": "markdown",
   "metadata": {},
   "source": [
    "O gráfico tem uma boa intenção, mas alguns detalhes deviam ter sido levados em consideração como os dois gráficos terem a mesma proporção, Os circulos pequenos são difíceis de enxergar e a Legenda do lado direito faz os olhos ficarem indo e voltando para entendermos o gráfico. Mas apesar disso podemos entender oque o criador do gráfico quer mostrar.\n",
    "As cores são diferentes e não causam confusão e o gráfico pode ser entendido mesmo por pessoas que são daltônicas por seguirem a mesma ordem da legenda.\n",
    "Perguntária se houve alguns dados estranhos ou se ele saberia explicar a diferença tão chamativa entre as duas pesquisas."
   ]
  },
  {
   "cell_type": "markdown",
   "metadata": {},
   "source": [
    "4. Crie três maneiras diferentes de mostrar esses dados e liste quais são algumas\n",
    "vantagens e insuficiências de cada uma.\n"
   ]
  },
  {
   "cell_type": "markdown",
   "metadata": {},
   "source": [
    "Um gráfico de barras sempre é uma boa pedida e nesse caso principalmente o de barras horizontais seria bom, e se vc puder incluir um ssobre o outro com barras de diferentes grossuras você pode facilitar muito a comparação entre os gráficos, mas irá atrapalhar um pouco a analise individual dos dados.\n",
    "\n",
    "![grafico1](./images/grafico1.png)\n",
    "\n",
    " https://public.tableau.com/app/profile/rafael.c.sar.andrade/viz/ResiliaIndividual/Planilha1?publish=yes\n",
    "\n",
    "Um gráfico do tipo boxplot iria nos mostrar os resultados de forma a destacar os outliers e mostrar aonde está a concentração \"normal\" de saídas, mas ela não nos mostraria com facilidade a habilidade de impactar nas saídas.\n",
    "\n",
    "![boxplot](./images/Boxplot.png)\n",
    "\n",
    "https://public.tableau.com/app/profile/rafael.c.sar.andrade/viz/ResiliaIndividualBoxplot/Planilha2\n",
    "\n",
    "\n",
    "Um gráfico de pizza, onde poderiamos ver quais são a maiores causas e com base em um esquema de cores, poderiamos separar quais são as causas mais fáceis de serem resolvidas, ou ao menos refreadas. As desvantagens seria que a quantidade de fatias atrapalharia a leitura de fatias únicas.\n",
    "\n",
    "![PizzaRH](./images/pizzaRH.png)\n",
    "\n",
    "https://public.tableau.com/app/profile/rafael.c.sar.andrade/viz/ResiliaIndividualBoxplot/Planilha3?publish=yes\n",
    "\n",
    "![PizzaAnonimous](./images/pizzanonima.png)\n",
    "\n",
    "https://public.tableau.com/app/profile/rafael.c.sar.andrade/viz/ResiliaIndividualBoxplot/Planilha32?publish=yes"
   ]
  },
  {
   "cell_type": "markdown",
   "metadata": {},
   "source": [
    "5. Qual visualização representa melhor os dados e por quê?"
   ]
  },
  {
   "cell_type": "markdown",
   "metadata": {},
   "source": [
    "Eu acredito que o melhor seria o de barras sobrepostas coloridas por ordem de habilidade de afetar, onde poderiamos ver onde está a maioria do casos e comparar como elas se comportaram em cada pesquisa ao mesmo tempo."
   ]
  },
  {
   "cell_type": "markdown",
   "metadata": {},
   "source": [
    "6. Como você pode gerar essas informações em uma história orientada por dados\n",
    "para seu chefe? O objetivo é pensar além de mostrar simplesmente dados e mostrar\n",
    "o contexto da história.\n"
   ]
  },
  {
   "cell_type": "markdown",
   "metadata": {},
   "source": []
  },
  {
   "cell_type": "code",
   "execution_count": 2,
   "metadata": {},
   "outputs": [],
   "source": [
    "import pandas as pd"
   ]
  },
  {
   "cell_type": "code",
   "execution_count": 11,
   "metadata": {},
   "outputs": [
    {
     "data": {
      "text/html": [
       "<div>\n",
       "<style scoped>\n",
       "    .dataframe tbody tr th:only-of-type {\n",
       "        vertical-align: middle;\n",
       "    }\n",
       "\n",
       "    .dataframe tbody tr th {\n",
       "        vertical-align: top;\n",
       "    }\n",
       "\n",
       "    .dataframe thead th {\n",
       "        text-align: right;\n",
       "    }\n",
       "</style>\n",
       "<table border=\"1\" class=\"dataframe\">\n",
       "  <thead>\n",
       "    <tr style=\"text-align: right;\">\n",
       "      <th></th>\n",
       "      <th>Impact</th>\n",
       "      <th>HRBP</th>\n",
       "      <th>Survey</th>\n",
       "    </tr>\n",
       "    <tr>\n",
       "      <th>Reason</th>\n",
       "      <th></th>\n",
       "      <th></th>\n",
       "      <th></th>\n",
       "    </tr>\n",
       "  </thead>\n",
       "  <tbody>\n",
       "    <tr>\n",
       "      <th>Training</th>\n",
       "      <td>11</td>\n",
       "      <td>31</td>\n",
       "      <td>23</td>\n",
       "    </tr>\n",
       "    <tr>\n",
       "      <th>Conflict with others</th>\n",
       "      <td>10</td>\n",
       "      <td>11</td>\n",
       "      <td>15</td>\n",
       "    </tr>\n",
       "    <tr>\n",
       "      <th>Lack of recognition</th>\n",
       "      <td>9</td>\n",
       "      <td>65</td>\n",
       "      <td>44</td>\n",
       "    </tr>\n",
       "    <tr>\n",
       "      <th>Workload</th>\n",
       "      <td>8</td>\n",
       "      <td>14</td>\n",
       "      <td>39</td>\n",
       "    </tr>\n",
       "    <tr>\n",
       "      <th>Career advancement</th>\n",
       "      <td>7</td>\n",
       "      <td>137</td>\n",
       "      <td>171</td>\n",
       "    </tr>\n",
       "    <tr>\n",
       "      <th>Pay</th>\n",
       "      <td>6</td>\n",
       "      <td>16</td>\n",
       "      <td>24</td>\n",
       "    </tr>\n",
       "    <tr>\n",
       "      <th>Type of work</th>\n",
       "      <td>5</td>\n",
       "      <td>128</td>\n",
       "      <td>78</td>\n",
       "    </tr>\n",
       "    <tr>\n",
       "      <th>Career change</th>\n",
       "      <td>4</td>\n",
       "      <td>18</td>\n",
       "      <td>30</td>\n",
       "    </tr>\n",
       "    <tr>\n",
       "      <th>Commute</th>\n",
       "      <td>3</td>\n",
       "      <td>31</td>\n",
       "      <td>22</td>\n",
       "    </tr>\n",
       "    <tr>\n",
       "      <th>Relocation</th>\n",
       "      <td>2</td>\n",
       "      <td>105</td>\n",
       "      <td>37</td>\n",
       "    </tr>\n",
       "    <tr>\n",
       "      <th>Illness</th>\n",
       "      <td>1</td>\n",
       "      <td>9</td>\n",
       "      <td>21</td>\n",
       "    </tr>\n",
       "  </tbody>\n",
       "</table>\n",
       "</div>"
      ],
      "text/plain": [
       "                      Impact  HRBP  Survey\n",
       "Reason                                    \n",
       "Training                  11    31      23\n",
       "Conflict with others      10    11      15\n",
       "Lack of recognition        9    65      44\n",
       "Workload                   8    14      39\n",
       "Career advancement         7   137     171\n",
       "Pay                        6    16      24\n",
       "Type of work               5   128      78\n",
       "Career change              4    18      30\n",
       "Commute                    3    31      22\n",
       "Relocation                 2   105      37\n",
       "Illness                    1     9      21"
      ]
     },
     "execution_count": 11,
     "metadata": {},
     "output_type": "execute_result"
    }
   ],
   "source": [
    "df = pd.read_csv('./data/data.csv', index_col='Reason')\n",
    "df"
   ]
  },
  {
   "cell_type": "code",
   "execution_count": 4,
   "metadata": {},
   "outputs": [
    {
     "data": {
      "text/plain": [
       "Reason    TrainingConflict with othersLack of recognitio...\n",
       "Impact                                                   45\n",
       "HRBP                                                    258\n",
       "Survey                                                  292\n",
       "dtype: object"
      ]
     },
     "execution_count": 4,
     "metadata": {},
     "output_type": "execute_result"
    }
   ],
   "source": [
    "df.query('Impact > 6').sum()"
   ]
  },
  {
   "cell_type": "code",
   "execution_count": 12,
   "metadata": {},
   "outputs": [
    {
     "data": {
      "text/html": [
       "<div>\n",
       "<style scoped>\n",
       "    .dataframe tbody tr th:only-of-type {\n",
       "        vertical-align: middle;\n",
       "    }\n",
       "\n",
       "    .dataframe tbody tr th {\n",
       "        vertical-align: top;\n",
       "    }\n",
       "\n",
       "    .dataframe thead th {\n",
       "        text-align: right;\n",
       "    }\n",
       "</style>\n",
       "<table border=\"1\" class=\"dataframe\">\n",
       "  <thead>\n",
       "    <tr style=\"text-align: right;\">\n",
       "      <th></th>\n",
       "      <th>Impact</th>\n",
       "      <th>HRBP</th>\n",
       "      <th>Survey</th>\n",
       "    </tr>\n",
       "  </thead>\n",
       "  <tbody>\n",
       "    <tr>\n",
       "      <th>Impact</th>\n",
       "      <td>1.000000</td>\n",
       "      <td>-0.099734</td>\n",
       "      <td>0.066392</td>\n",
       "    </tr>\n",
       "    <tr>\n",
       "      <th>HRBP</th>\n",
       "      <td>-0.099734</td>\n",
       "      <td>1.000000</td>\n",
       "      <td>0.789340</td>\n",
       "    </tr>\n",
       "    <tr>\n",
       "      <th>Survey</th>\n",
       "      <td>0.066392</td>\n",
       "      <td>0.789340</td>\n",
       "      <td>1.000000</td>\n",
       "    </tr>\n",
       "  </tbody>\n",
       "</table>\n",
       "</div>"
      ],
      "text/plain": [
       "          Impact      HRBP    Survey\n",
       "Impact  1.000000 -0.099734  0.066392\n",
       "HRBP   -0.099734  1.000000  0.789340\n",
       "Survey  0.066392  0.789340  1.000000"
      ]
     },
     "execution_count": 12,
     "metadata": {},
     "output_type": "execute_result"
    }
   ],
   "source": [
    "df.corr()"
   ]
  },
  {
   "cell_type": "code",
   "execution_count": null,
   "metadata": {},
   "outputs": [],
   "source": [
    "HRBP = 258/565\n",
    "Survey = 292/504"
   ]
  }
 ],
 "metadata": {
  "kernelspec": {
   "display_name": "Python 3",
   "language": "python",
   "name": "python3"
  },
  "language_info": {
   "codemirror_mode": {
    "name": "ipython",
    "version": 3
   },
   "file_extension": ".py",
   "mimetype": "text/x-python",
   "name": "python",
   "nbconvert_exporter": "python",
   "pygments_lexer": "ipython3",
   "version": "3.11.3"
  },
  "orig_nbformat": 4
 },
 "nbformat": 4,
 "nbformat_minor": 2
}
