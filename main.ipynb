{
 "cells": [
  {
   "cell_type": "markdown",
   "metadata": {},
   "source": [
    "Você deve criar um ou mais dashboards, com o Tableau, identificando as\n",
    "\n",
    "razões de saída dos funcionários da empresa e seus impactos, e indicando\n",
    "\n",
    "possíveis soluções para esses problemas."
   ]
  },
  {
   "cell_type": "markdown",
   "metadata": {},
   "source": [
    "Requisitos\n",
    "\n",
    "● Utilizar o Tableau.\n",
    "\n",
    "● Realizar a limpeza dos dados, se necessário;\n",
    "\n",
    "● Realizar análise exploratória;\n",
    "\n",
    "● Gerar, no mínimo, três (3) gráficos para a apresentação dos resultados;\n",
    "\n",
    "● Apresentar, no mínimo, dois (2) insights relevantes e conclusões fundamentadas com base\n",
    "nas análises realizadas.\n",
    "\n",
    "● O projeto precisa possuir uma evidência de entrega, ou seja, um pequeno parágrafo com\n",
    "uma explicação do que foi feito no projeto e a defesa das escolhas tomadas."
   ]
  },
  {
   "cell_type": "markdown",
   "metadata": {},
   "source": [
    "Se familiarize com a ferramenta Tableau e seus recursos-chave, para então realizar a\n",
    "importação e preparação de dados para análise. Siga os passos:\n",
    "\n",
    "■ Os dados para o desenvolvimento do projeto está nesse link;\n",
    "\n",
    "■ Importe o conjunto de dados para o Tableau;\n",
    "\n",
    "■ Realize, se necessário, as etapas necessárias de limpeza, transformação e\n",
    "modelagem dos dados para prepará-los para análise;\n",
    "\n",
    "■ Utilize recursos gráficos e de visualização do Tableau para criar visualizações\n",
    "interativas que representam os dados de forma clara e informativa;\n",
    "\n",
    "■ Crie painéis de controle (dashboards) para acompanhar métricas-chave e\n",
    "identificar insights relevantes;\n",
    "\n",
    "■ Crie relatórios interativos e atraentes, incorporando as visualizações e insights\n",
    "obtidos;\n",
    "\n",
    "■ Prepare uma narrativa clara e concisa que conte a história dos dados e forneça\n",
    "recomendações e conclusões baseadas nas análises realizadas;\n",
    "\n",
    "■ Documente todo o processo de análise e as etapas realizadas.\n"
   ]
  },
  {
   "cell_type": "markdown",
   "metadata": {},
   "source": [
    "![imagem](./images/grafico_bolha.png)"
   ]
  },
  {
   "cell_type": "markdown",
   "metadata": {},
   "source": [
    "1. O que está sendo mostrado aqui? Escreva um texto explicando os dados.\n",
    "Dica: imagine que você precisa explicar esse gráfico para o seu chefe. Escreva sobre como\n",
    "você faria isso em voz alta (fazendo suposições conforme necessário).\n"
   ]
  },
  {
   "cell_type": "markdown",
   "metadata": {},
   "source": []
  },
  {
   "cell_type": "markdown",
   "metadata": {},
   "source": [
    "2. Que observações você pode fazer a partir desses dados? Coloque duas\n",
    "conclusões específicas em palavras. Escreva sentenças completas.\n"
   ]
  },
  {
   "cell_type": "markdown",
   "metadata": {},
   "source": []
  },
  {
   "cell_type": "markdown",
   "metadata": {},
   "source": [
    "3. O que não é ideal ou poderia ser evitado na visualização em sua forma atual? Que\n",
    "perguntas você faria ou que feedback daria para quem fez o gráfico?\n",
    "Exemplo: suponha que seu HRBP gastou muito tempo criando esse gráfico; como você\n",
    "pode ajustar seu feedback para que ele não se ofenda?\n"
   ]
  },
  {
   "cell_type": "markdown",
   "metadata": {},
   "source": []
  },
  {
   "cell_type": "markdown",
   "metadata": {},
   "source": [
    "4. Crie três maneiras diferentes de mostrar esses dados e liste quais são algumas\n",
    "vantagens e insuficiências de cada uma.\n"
   ]
  },
  {
   "cell_type": "markdown",
   "metadata": {},
   "source": []
  },
  {
   "cell_type": "markdown",
   "metadata": {},
   "source": [
    "5. Qual visualização representa melhor os dados e por quê?"
   ]
  },
  {
   "cell_type": "markdown",
   "metadata": {},
   "source": []
  },
  {
   "cell_type": "markdown",
   "metadata": {},
   "source": [
    "6. Como você pode gerar essas informações em uma história orientada por dados\n",
    "para seu chefe? O objetivo é pensar além de mostrar simplesmente dados e mostrar\n",
    "o contexto da história.\n"
   ]
  },
  {
   "cell_type": "markdown",
   "metadata": {},
   "source": []
  },
  {
   "cell_type": "markdown",
   "metadata": {},
   "source": []
  }
 ],
 "metadata": {
  "kernelspec": {
   "display_name": "Python 3",
   "language": "python",
   "name": "python3"
  },
  "language_info": {
   "name": "python",
   "version": "3.11.3"
  },
  "orig_nbformat": 4
 },
 "nbformat": 4,
 "nbformat_minor": 2
}
